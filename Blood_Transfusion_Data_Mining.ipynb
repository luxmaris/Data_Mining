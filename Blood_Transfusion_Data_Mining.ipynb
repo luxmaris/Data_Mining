{
 "cells": [
  {
   "cell_type": "markdown",
   "metadata": {},
   "source": [
    "# 인공지능 설계 및 실습 과제"
   ]
  },
  {
   "cell_type": "markdown",
   "metadata": {},
   "source": [
    "                                                                                                                 IoT인공지능융합전공 \n",
    "                                                                                                                              양승우"
   ]
  },
  {
   "cell_type": "markdown",
   "metadata": {},
   "source": [
    "#### ================================================================================================================\n",
    "### Blood Transfusion Service Center Data Set을 활용한 분류문제 해결\n",
    "\n",
    "#### 내용 : Blood Transfusion Service Center Data Set은 748명의 헌혈 기부자들의 정보가 들어 있습니다. \n",
    "예측변수를 포함하여 총 5개의 변수가 제공되며, \n",
    "학생들은 헌혈기부자가 다음에도 헌혈을 할 것인가에 대하여 예측을 하는 과제입니다.(이진 분류)\\\n",
    "주어진 데이터를 활용하여, 실습과 과제를 통하여 배운 지식을 바탕으로 데이터 분석 보고서를 제출하면 됩니다.\n",
    "\n",
    "- 보고서 제출 시 주의사항  \n",
    "  - 보고서는 자유양식이지만, 제출 시 코드와 함께 설명을 반드시 기재하여야 합니다.\n",
    "  - 보고서 제출 시 .ipynb 혹은 .html 혹은 한글파일로 제출할 것(한글 파일로 제출 시 해당 ‘코드’를 반드시 첨부할 것)\n",
    "\n",
    "- 확인사항  \n",
    "  - csv 파일에 데이터와 무관한 값이 들어가 있는지 확인 바랍니다.\n",
    "  - 데이터에 대한 설명은 ‘Transfusion 데이터 설명’을 참고하시길 바랍니다.(원문 제공)\n",
    "  \n",
    "#### ================================================================================================================"
   ]
  },
  {
   "cell_type": "markdown",
   "metadata": {},
   "source": [
    "## Used Package Version"
   ]
  },
  {
   "cell_type": "markdown",
   "metadata": {},
   "source": [
    "- Python \n",
    "  - python 3.7.5 ver.\n",
    "- Scikit learn\n",
    "  - sklearn 0.21.3 ver.\n",
    "- Tensorflow\n",
    "  - tensorflow 1.14.0 ver."
   ]
  },
  {
   "cell_type": "markdown",
   "metadata": {},
   "source": [
    "## Package Import"
   ]
  },
  {
   "cell_type": "code",
   "execution_count": 1,
   "metadata": {},
   "outputs": [],
   "source": [
    "import numpy as np # linear algebra\n",
    "import pandas as pd # data processing, CSV file I/O (e.g. pd.read_csv)\n",
    "import seaborn as sns\n",
    "import matplotlib.pyplot as plt"
   ]
  },
  {
   "cell_type": "markdown",
   "metadata": {},
   "source": [
    "## Data Import"
   ]
  },
  {
   "cell_type": "markdown",
   "metadata": {},
   "source": [
    "- Transfusion.csv가 저장된 위치로 바꿔서 실행하시기 바랍니다.\n",
    "#### (참고: 첨부된 파일에는 'Tranfuion.csv'으로 's'가 2개 빠졌으므로 'Transfusion.csv'으로 바꾼뒤 실행한다) "
   ]
  },
  {
   "cell_type": "code",
   "execution_count": 2,
   "metadata": {},
   "outputs": [],
   "source": [
    "transfusion = pd.read_csv('Transfusion.csv', header=0)"
   ]
  },
  {
   "cell_type": "markdown",
   "metadata": {},
   "source": [
    "## Data Description"
   ]
  },
  {
   "cell_type": "markdown",
   "metadata": {},
   "source": [
    "To demonstrate the RFMTC marketing model (a modified version of RFM), <br>\n",
    "this study adopted the donor database of Blood Transfusion Service Center in Hsin-Chu City in Taiwan. <br>\n",
    "The center passes their blood transfusion service bus to one university in Hsin-Chu City to gather blood donated about every three months.<br> \n",
    "To build a FRMTC model, we selected 748 donors at random from the donor database. <br>\n",
    "\n",
    "- Recency (months since last donation)\n",
    "- Frequency (total number of donation)\n",
    "- Monetary (total blood donated in c.c.)\n",
    "- Time (months since first donation) \n",
    "- Donated (a binary variable representing whether he/she donated blood in March 2007 (1 stands for donating blood; 0 stands for not donating blood))."
   ]
  },
  {
   "cell_type": "code",
   "execution_count": 3,
   "metadata": {},
   "outputs": [
    {
     "data": {
      "text/html": [
       "<div>\n",
       "<style scoped>\n",
       "    .dataframe tbody tr th:only-of-type {\n",
       "        vertical-align: middle;\n",
       "    }\n",
       "\n",
       "    .dataframe tbody tr th {\n",
       "        vertical-align: top;\n",
       "    }\n",
       "\n",
       "    .dataframe thead th {\n",
       "        text-align: right;\n",
       "    }\n",
       "</style>\n",
       "<table border=\"1\" class=\"dataframe\">\n",
       "  <thead>\n",
       "    <tr style=\"text-align: right;\">\n",
       "      <th></th>\n",
       "      <th>Recency</th>\n",
       "      <th>Frequency</th>\n",
       "      <th>Monetary</th>\n",
       "      <th>Time</th>\n",
       "      <th>Donated</th>\n",
       "    </tr>\n",
       "  </thead>\n",
       "  <tbody>\n",
       "    <tr>\n",
       "      <th>0</th>\n",
       "      <td>2</td>\n",
       "      <td>50</td>\n",
       "      <td>12500</td>\n",
       "      <td>98</td>\n",
       "      <td>1</td>\n",
       "    </tr>\n",
       "    <tr>\n",
       "      <th>1</th>\n",
       "      <td>0</td>\n",
       "      <td>13</td>\n",
       "      <td>3250</td>\n",
       "      <td>28</td>\n",
       "      <td>1</td>\n",
       "    </tr>\n",
       "    <tr>\n",
       "      <th>2</th>\n",
       "      <td>1</td>\n",
       "      <td>16</td>\n",
       "      <td>4000</td>\n",
       "      <td>35</td>\n",
       "      <td>1</td>\n",
       "    </tr>\n",
       "    <tr>\n",
       "      <th>3</th>\n",
       "      <td>2</td>\n",
       "      <td>20</td>\n",
       "      <td>5000</td>\n",
       "      <td>45</td>\n",
       "      <td>1</td>\n",
       "    </tr>\n",
       "    <tr>\n",
       "      <th>4</th>\n",
       "      <td>1</td>\n",
       "      <td>24</td>\n",
       "      <td>6000</td>\n",
       "      <td>77</td>\n",
       "      <td>0</td>\n",
       "    </tr>\n",
       "  </tbody>\n",
       "</table>\n",
       "</div>"
      ],
      "text/plain": [
       "   Recency  Frequency  Monetary  Time  Donated\n",
       "0        2         50     12500    98        1\n",
       "1        0         13      3250    28        1\n",
       "2        1         16      4000    35        1\n",
       "3        2         20      5000    45        1\n",
       "4        1         24      6000    77        0"
      ]
     },
     "execution_count": 3,
     "metadata": {},
     "output_type": "execute_result"
    }
   ],
   "source": [
    "transfusion.head()"
   ]
  },
  {
   "cell_type": "code",
   "execution_count": 4,
   "metadata": {},
   "outputs": [
    {
     "name": "stdout",
     "output_type": "stream",
     "text": [
      "<class 'pandas.core.frame.DataFrame'>\n",
      "RangeIndex: 748 entries, 0 to 747\n",
      "Data columns (total 5 columns):\n",
      "Recency      748 non-null int64\n",
      "Frequency    748 non-null int64\n",
      "Monetary     748 non-null int64\n",
      "Time         748 non-null int64\n",
      "Donated      748 non-null int64\n",
      "dtypes: int64(5)\n",
      "memory usage: 29.3 KB\n"
     ]
    }
   ],
   "source": [
    "transfusion.info()"
   ]
  },
  {
   "cell_type": "code",
   "execution_count": 5,
   "metadata": {},
   "outputs": [
    {
     "data": {
      "text/html": [
       "<div>\n",
       "<style scoped>\n",
       "    .dataframe tbody tr th:only-of-type {\n",
       "        vertical-align: middle;\n",
       "    }\n",
       "\n",
       "    .dataframe tbody tr th {\n",
       "        vertical-align: top;\n",
       "    }\n",
       "\n",
       "    .dataframe thead th {\n",
       "        text-align: right;\n",
       "    }\n",
       "</style>\n",
       "<table border=\"1\" class=\"dataframe\">\n",
       "  <thead>\n",
       "    <tr style=\"text-align: right;\">\n",
       "      <th></th>\n",
       "      <th>Recency</th>\n",
       "      <th>Frequency</th>\n",
       "      <th>Monetary</th>\n",
       "      <th>Time</th>\n",
       "      <th>Donated</th>\n",
       "    </tr>\n",
       "  </thead>\n",
       "  <tbody>\n",
       "    <tr>\n",
       "      <th>count</th>\n",
       "      <td>748.000000</td>\n",
       "      <td>748.000000</td>\n",
       "      <td>748.000000</td>\n",
       "      <td>748.000000</td>\n",
       "      <td>748.000000</td>\n",
       "    </tr>\n",
       "    <tr>\n",
       "      <th>mean</th>\n",
       "      <td>9.506684</td>\n",
       "      <td>5.514706</td>\n",
       "      <td>1378.676471</td>\n",
       "      <td>34.282086</td>\n",
       "      <td>0.237968</td>\n",
       "    </tr>\n",
       "    <tr>\n",
       "      <th>std</th>\n",
       "      <td>8.095396</td>\n",
       "      <td>5.839307</td>\n",
       "      <td>1459.826781</td>\n",
       "      <td>24.376714</td>\n",
       "      <td>0.426124</td>\n",
       "    </tr>\n",
       "    <tr>\n",
       "      <th>min</th>\n",
       "      <td>0.000000</td>\n",
       "      <td>1.000000</td>\n",
       "      <td>250.000000</td>\n",
       "      <td>2.000000</td>\n",
       "      <td>0.000000</td>\n",
       "    </tr>\n",
       "    <tr>\n",
       "      <th>25%</th>\n",
       "      <td>2.750000</td>\n",
       "      <td>2.000000</td>\n",
       "      <td>500.000000</td>\n",
       "      <td>16.000000</td>\n",
       "      <td>0.000000</td>\n",
       "    </tr>\n",
       "    <tr>\n",
       "      <th>50%</th>\n",
       "      <td>7.000000</td>\n",
       "      <td>4.000000</td>\n",
       "      <td>1000.000000</td>\n",
       "      <td>28.000000</td>\n",
       "      <td>0.000000</td>\n",
       "    </tr>\n",
       "    <tr>\n",
       "      <th>75%</th>\n",
       "      <td>14.000000</td>\n",
       "      <td>7.000000</td>\n",
       "      <td>1750.000000</td>\n",
       "      <td>50.000000</td>\n",
       "      <td>0.000000</td>\n",
       "    </tr>\n",
       "    <tr>\n",
       "      <th>max</th>\n",
       "      <td>74.000000</td>\n",
       "      <td>50.000000</td>\n",
       "      <td>12500.000000</td>\n",
       "      <td>98.000000</td>\n",
       "      <td>1.000000</td>\n",
       "    </tr>\n",
       "  </tbody>\n",
       "</table>\n",
       "</div>"
      ],
      "text/plain": [
       "          Recency   Frequency      Monetary        Time     Donated\n",
       "count  748.000000  748.000000    748.000000  748.000000  748.000000\n",
       "mean     9.506684    5.514706   1378.676471   34.282086    0.237968\n",
       "std      8.095396    5.839307   1459.826781   24.376714    0.426124\n",
       "min      0.000000    1.000000    250.000000    2.000000    0.000000\n",
       "25%      2.750000    2.000000    500.000000   16.000000    0.000000\n",
       "50%      7.000000    4.000000   1000.000000   28.000000    0.000000\n",
       "75%     14.000000    7.000000   1750.000000   50.000000    0.000000\n",
       "max     74.000000   50.000000  12500.000000   98.000000    1.000000"
      ]
     },
     "execution_count": 5,
     "metadata": {},
     "output_type": "execute_result"
    }
   ],
   "source": [
    "transfusion.describe()"
   ]
  },
  {
   "cell_type": "markdown",
   "metadata": {},
   "source": [
    "## Data Visualization"
   ]
  },
  {
   "cell_type": "code",
   "execution_count": 6,
   "metadata": {},
   "outputs": [
    {
     "name": "stdout",
     "output_type": "stream",
     "text": [
      "Number of Donating blood in March 2007:  178\n",
      "Number of Not Donating blood in March 2007 :  570\n"
     ]
    },
    {
     "data": {
      "image/png": "[encoded data removed]",
      "text/plain": [
       "<Figure size 432x288 with 1 Axes>"
      ]
     },
     "metadata": {
      "needs_background": "light"
     },
     "output_type": "display_data"
    }
   ],
   "source": [
    "ax = sns.countplot(transfusion['Donated'], order=[1,0])\n",
    "ax.legend([\"Yes\", \"no\"], title=\"Donated in March 2007\")\n",
    "ND, D = pd.value_counts(transfusion.Donated)\n",
    "print('Number of Donating blood in March 2007: ',D)\n",
    "print('Number of Not Donating blood in March 2007 : ',ND)"
   ]
  },
  {
   "cell_type": "code",
   "execution_count": 7,
   "metadata": {},
   "outputs": [
    {
     "data": {
      "image/png": "[encoded data removed]",
      "text/plain": [
       "<Figure size 576x432 with 2 Axes>"
      ]
     },
     "metadata": {
      "needs_background": "light"
     },
     "output_type": "display_data"
    }
   ],
   "source": [
    "# Because matplotlib ver.3.1.1 have a bug, So I had to set limit manually.\n",
    "\n",
    "plt.figure(figsize=(8,6)) \n",
    "ax = sns.heatmap(transfusion.corr(), linewidths=.5, annot=True, cmap=\"Reds\")\n",
    "bottom, top = ax.get_ylim()\n",
    "ax.set_ylim(bottom + 0.5, top - 0.5)\n",
    "plt.show()"
   ]
  },
  {
   "cell_type": "code",
   "execution_count": 8,
   "metadata": {},
   "outputs": [
    {
     "data": {
      "image/png": "[encoded data removed]",
      "text/plain": [
       "<Figure size 720x360 with 4 Axes>"
      ]
     },
     "metadata": {
      "needs_background": "light"
     },
     "output_type": "display_data"
    }
   ],
   "source": [
    "plt.figure(figsize=(10,5))\n",
    "plt.subplot(2,2,1)\n",
    "plt.plot(transfusion.Recency, 'b+')\n",
    "plt.subplot(2,2,2)\n",
    "plt.plot(transfusion.Frequency, 'g+')\n",
    "plt.subplot(2,2,3)\n",
    "plt.plot(transfusion.Monetary, 'r+')\n",
    "plt.subplot(2,2,4)\n",
    "plt.plot(transfusion.Time, 'y+')\n",
    "plt.show()"
   ]
  },
  {
   "cell_type": "code",
   "execution_count": 9,
   "metadata": {},
   "outputs": [
    {
     "data": {
      "image/png": "[encoded data removed]",
      "text/plain": [
       "<Figure size 1008x432 with 4 Axes>"
      ]
     },
     "metadata": {
      "needs_background": "light"
     },
     "output_type": "display_data"
    }
   ],
   "source": [
    "fig, axes = plt.subplots(2,2, figsize=(14,6))\n",
    "ax = axes.ravel()\n",
    "\n",
    "name=list(transfusion)\n",
    "for i in range(0,4):\n",
    "    ax[i].hist(transfusion[transfusion.Donated == 1][name[i]], \n",
    "             color=\"Green\", label=\"Yes\", alpha=0.8)\n",
    "    ax[i].hist(transfusion[transfusion.Donated == 0][name[i]], \n",
    "             color=\"Orange\", label=\"No\", alpha=0.2)\n",
    "    ax[i].set_title(name[i])\n",
    "    ax[i].legend([\"Yes\", \"No\"], title=\"Donated in March 2007\")"
   ]
  },
  {
   "cell_type": "markdown",
   "metadata": {},
   "source": [
    "> <br>\n",
    "> <br>\n",
    "> <br>\n",
    "> \n",
    "> # Trends of Data\n",
    "> - If someone donated in 100 months since first donation (≈ 8 years)\n",
    "> - If someone donated in 30 months since last donation (≈ 2 years)\n",
    "> - If someone has low total number of donation <br>\n",
    ">   ==> **There have a problihood of donation**\n",
    ">\n",
    "> <br>\n",
    "> <br>\n",
    "> <br>"
   ]
  },
  {
   "cell_type": "markdown",
   "metadata": {},
   "source": [
    "# Data Preprocessing"
   ]
  },
  {
   "cell_type": "code",
   "execution_count": 10,
   "metadata": {},
   "outputs": [],
   "source": [
    "from sklearn.model_selection import train_test_split # To split the dataset for training and testing.\n",
    "from sklearn import metrics # For checking the model accuracy."
   ]
  },
  {
   "cell_type": "code",
   "execution_count": 11,
   "metadata": {},
   "outputs": [
    {
     "name": "stderr",
     "output_type": "stream",
     "text": [
      "C:\\ProgramData\\Anaconda3\\envs\\MLproject\\lib\\site-packages\\tensorflow\\python\\framework\\dtypes.py:516: FutureWarning: Passing (type, 1) or '1type' as a synonym of type is deprecated; in a future version of numpy, it will be understood as (type, (1,)) / '(1,)type'.\n",
      "  _np_qint8 = np.dtype([(\"qint8\", np.int8, 1)])\n",
      "C:\\ProgramData\\Anaconda3\\envs\\MLproject\\lib\\site-packages\\tensorflow\\python\\framework\\dtypes.py:517: FutureWarning: Passing (type, 1) or '1type' as a synonym of type is deprecated; in a future version of numpy, it will be understood as (type, (1,)) / '(1,)type'.\n",
      "  _np_quint8 = np.dtype([(\"quint8\", np.uint8, 1)])\n",
      "C:\\ProgramData\\Anaconda3\\envs\\MLproject\\lib\\site-packages\\tensorflow\\python\\framework\\dtypes.py:518: FutureWarning: Passing (type, 1) or '1type' as a synonym of type is deprecated; in a future version of numpy, it will be understood as (type, (1,)) / '(1,)type'.\n",
      "  _np_qint16 = np.dtype([(\"qint16\", np.int16, 1)])\n",
      "C:\\ProgramData\\Anaconda3\\envs\\MLproject\\lib\\site-packages\\tensorflow\\python\\framework\\dtypes.py:519: FutureWarning: Passing (type, 1) or '1type' as a synonym of type is deprecated; in a future version of numpy, it will be understood as (type, (1,)) / '(1,)type'.\n",
      "  _np_quint16 = np.dtype([(\"quint16\", np.uint16, 1)])\n",
      "C:\\ProgramData\\Anaconda3\\envs\\MLproject\\lib\\site-packages\\tensorflow\\python\\framework\\dtypes.py:520: FutureWarning: Passing (type, 1) or '1type' as a synonym of type is deprecated; in a future version of numpy, it will be understood as (type, (1,)) / '(1,)type'.\n",
      "  _np_qint32 = np.dtype([(\"qint32\", np.int32, 1)])\n",
      "C:\\ProgramData\\Anaconda3\\envs\\MLproject\\lib\\site-packages\\tensorflow\\python\\framework\\dtypes.py:525: FutureWarning: Passing (type, 1) or '1type' as a synonym of type is deprecated; in a future version of numpy, it will be understood as (type, (1,)) / '(1,)type'.\n",
      "  np_resource = np.dtype([(\"resource\", np.ubyte, 1)])\n",
      "C:\\ProgramData\\Anaconda3\\envs\\MLproject\\lib\\site-packages\\tensorboard\\compat\\tensorflow_stub\\dtypes.py:541: FutureWarning: Passing (type, 1) or '1type' as a synonym of type is deprecated; in a future version of numpy, it will be understood as (type, (1,)) / '(1,)type'.\n",
      "  _np_qint8 = np.dtype([(\"qint8\", np.int8, 1)])\n",
      "C:\\ProgramData\\Anaconda3\\envs\\MLproject\\lib\\site-packages\\tensorboard\\compat\\tensorflow_stub\\dtypes.py:542: FutureWarning: Passing (type, 1) or '1type' as a synonym of type is deprecated; in a future version of numpy, it will be understood as (type, (1,)) / '(1,)type'.\n",
      "  _np_quint8 = np.dtype([(\"quint8\", np.uint8, 1)])\n",
      "C:\\ProgramData\\Anaconda3\\envs\\MLproject\\lib\\site-packages\\tensorboard\\compat\\tensorflow_stub\\dtypes.py:543: FutureWarning: Passing (type, 1) or '1type' as a synonym of type is deprecated; in a future version of numpy, it will be understood as (type, (1,)) / '(1,)type'.\n",
      "  _np_qint16 = np.dtype([(\"qint16\", np.int16, 1)])\n",
      "C:\\ProgramData\\Anaconda3\\envs\\MLproject\\lib\\site-packages\\tensorboard\\compat\\tensorflow_stub\\dtypes.py:544: FutureWarning: Passing (type, 1) or '1type' as a synonym of type is deprecated; in a future version of numpy, it will be understood as (type, (1,)) / '(1,)type'.\n",
      "  _np_quint16 = np.dtype([(\"quint16\", np.uint16, 1)])\n",
      "C:\\ProgramData\\Anaconda3\\envs\\MLproject\\lib\\site-packages\\tensorboard\\compat\\tensorflow_stub\\dtypes.py:545: FutureWarning: Passing (type, 1) or '1type' as a synonym of type is deprecated; in a future version of numpy, it will be understood as (type, (1,)) / '(1,)type'.\n",
      "  _np_qint32 = np.dtype([(\"qint32\", np.int32, 1)])\n",
      "C:\\ProgramData\\Anaconda3\\envs\\MLproject\\lib\\site-packages\\tensorboard\\compat\\tensorflow_stub\\dtypes.py:550: FutureWarning: Passing (type, 1) or '1type' as a synonym of type is deprecated; in a future version of numpy, it will be understood as (type, (1,)) / '(1,)type'.\n",
      "  np_resource = np.dtype([(\"resource\", np.ubyte, 1)])\n"
     ]
    }
   ],
   "source": [
    "import tensorflow as tf\n",
    "\n",
    "seed = 0\n",
    "np.random.seed(seed)\n",
    "tf.set_random_seed(seed)\n",
    "\n",
    "# random_state = 10 shows the highest performance.\n",
    "train, test = train_test_split(transfusion, test_size = 0.2, random_state=seed) "
   ]
  },
  {
   "cell_type": "code",
   "execution_count": 12,
   "metadata": {},
   "outputs": [],
   "source": [
    "train_X = train[['Recency','Frequency','Monetary','Time']]# taking the training data features\n",
    "train_y = train.Donated # output of our training data\n",
    "test_X = test[['Recency','Frequency','Monetary','Time']] # taking test data features\n",
    "test_y =test.Donated # output value of test data"
   ]
  },
  {
   "cell_type": "markdown",
   "metadata": {},
   "source": [
    "### Data scaling (Min-Max Scaler) "
   ]
  },
  {
   "cell_type": "code",
   "execution_count": 13,
   "metadata": {},
   "outputs": [],
   "source": [
    "from sklearn.preprocessing import MinMaxScaler\n",
    "\n",
    "scaler = MinMaxScaler()\n",
    "\n",
    "train_X_scaled = scaler.fit_transform(train_X)\n",
    "test_X_scaled = scaler.fit_transform(test_X)"
   ]
  },
  {
   "cell_type": "code",
   "execution_count": 14,
   "metadata": {},
   "outputs": [
    {
     "name": "stdout",
     "output_type": "stream",
     "text": [
      "Shape of train_X(scaled): (598, 4)\n",
      "Shape of train_y: (598,)\n",
      "Shape of test_X(scaled): (150, 4)\n",
      "Shape of test_y: (150,)\n"
     ]
    }
   ],
   "source": [
    "print(\"Shape of train_X(scaled):\", train_X_scaled.shape)\n",
    "print(\"Shape of train_y:\", train_y.shape)\n",
    "print(\"Shape of test_X(scaled):\", test_X_scaled.shape)\n",
    "print(\"Shape of test_y:\", test_y.shape)"
   ]
  },
  {
   "cell_type": "code",
   "execution_count": 15,
   "metadata": {},
   "outputs": [
    {
     "data": {
      "image/png": "[encoded data removed]",
      "text/plain": [
       "<Figure size 720x360 with 2 Axes>"
      ]
     },
     "metadata": {
      "needs_background": "light"
     },
     "output_type": "display_data"
    }
   ],
   "source": [
    "plt.figure(figsize=(10,5))\n",
    "plt.subplot(1,2,1)\n",
    "plt.plot(train_X_scaled, '+')\n",
    "plt.subplot(1,2,2)\n",
    "plt.plot(test_X_scaled, '+')\n",
    "plt.show()"
   ]
  },
  {
   "cell_type": "markdown",
   "metadata": {},
   "source": [
    "# Modeling"
   ]
  },
  {
   "cell_type": "markdown",
   "metadata": {},
   "source": [
    "   - Keras\n",
    "     - MLP(Multi-Layer Perceptron)<br><br>\n",
    "   - Scikit-learn\n",
    "       - Naive Bayes \n",
    "       - K-NN \n",
    "       - Logistic Regression \n",
    "       - SVM\n",
    "       - MLP(Multi-Layer Perceptron)\n",
    "       - Random Forest Tree (Ensemble) \n",
    "       - Gradient Boosting Tree (Ensemble) "
   ]
  },
  {
   "cell_type": "markdown",
   "metadata": {},
   "source": [
    "                                         Testing value = [ 2, 9, 2250, 22 ] \n",
    "                                               Predicted value = [ 1 ]\n",
    "                                        You can change data value as you want"
   ]
  },
  {
   "cell_type": "markdown",
   "metadata": {},
   "source": [
    "## Keras (MLP)"
   ]
  },
  {
   "cell_type": "code",
   "execution_count": 16,
   "metadata": {},
   "outputs": [
    {
     "name": "stderr",
     "output_type": "stream",
     "text": [
      "Using TensorFlow backend.\n"
     ]
    },
    {
     "name": "stdout",
     "output_type": "stream",
     "text": [
      "WARNING:tensorflow:From C:\\ProgramData\\Anaconda3\\envs\\MLproject\\lib\\site-packages\\keras\\backend\\tensorflow_backend.py:422: The name tf.global_variables is deprecated. Please use tf.compat.v1.global_variables instead.\n",
      "\n",
      "Epoch 1/200\n",
      "598/598 [==============================] - 0s 620us/step - loss: 0.2284 - accuracy: 0.7709\n",
      "Epoch 2/200\n",
      "598/598 [==============================] - 0s 52us/step - loss: 0.1951 - accuracy: 0.7709\n",
      "Epoch 3/200\n",
      "598/598 [==============================] - 0s 57us/step - loss: 0.1766 - accuracy: 0.7709\n",
      "Epoch 4/200\n",
      "598/598 [==============================] - 0s 53us/step - loss: 0.1707 - accuracy: 0.7709\n",
      "Epoch 5/200\n",
      "598/598 [==============================] - 0s 210us/step - loss: 0.1676 - accuracy: 0.7709\n",
      "Epoch 6/200\n",
      "598/598 [==============================] - 0s 122us/step - loss: 0.1649 - accuracy: 0.7709\n",
      "Epoch 7/200\n",
      "598/598 [==============================] - 0s 73us/step - loss: 0.1628 - accuracy: 0.7709\n",
      "Epoch 8/200\n",
      "598/598 [==============================] - 0s 72us/step - loss: 0.1611 - accuracy: 0.7709\n",
      "Epoch 9/200\n",
      "598/598 [==============================] - 0s 73us/step - loss: 0.1601 - accuracy: 0.7709\n",
      "Epoch 10/200\n",
      "598/598 [==============================] - 0s 73us/step - loss: 0.1590 - accuracy: 0.7709\n",
      "Epoch 11/200\n",
      "598/598 [==============================] - 0s 68us/step - loss: 0.1575 - accuracy: 0.7709\n",
      "Epoch 12/200\n",
      "598/598 [==============================] - 0s 88us/step - loss: 0.1569 - accuracy: 0.7709\n",
      "Epoch 13/200\n",
      "598/598 [==============================] - 0s 78us/step - loss: 0.1561 - accuracy: 0.7709\n",
      "Epoch 14/200\n",
      "598/598 [==============================] - 0s 88us/step - loss: 0.1551 - accuracy: 0.7709\n",
      "Epoch 15/200\n",
      "598/598 [==============================] - 0s 77us/step - loss: 0.1548 - accuracy: 0.7709\n",
      "Epoch 16/200\n",
      "598/598 [==============================] - 0s 77us/step - loss: 0.1540 - accuracy: 0.7709\n",
      "Epoch 17/200\n",
      "598/598 [==============================] - 0s 78us/step - loss: 0.1535 - accuracy: 0.7709\n",
      "Epoch 18/200\n",
      "598/598 [==============================] - 0s 58us/step - loss: 0.1534 - accuracy: 0.7742\n",
      "Epoch 19/200\n",
      "598/598 [==============================] - 0s 58us/step - loss: 0.1531 - accuracy: 0.7759\n",
      "Epoch 20/200\n",
      "598/598 [==============================] - 0s 55us/step - loss: 0.1531 - accuracy: 0.7809\n",
      "Epoch 21/200\n",
      "598/598 [==============================] - 0s 53us/step - loss: 0.1526 - accuracy: 0.7843\n",
      "Epoch 22/200\n",
      "598/598 [==============================] - 0s 65us/step - loss: 0.1524 - accuracy: 0.7826\n",
      "Epoch 23/200\n",
      "598/598 [==============================] - 0s 55us/step - loss: 0.1523 - accuracy: 0.7809\n",
      "Epoch 24/200\n",
      "598/598 [==============================] - 0s 62us/step - loss: 0.1517 - accuracy: 0.7809\n",
      "Epoch 25/200\n",
      "598/598 [==============================] - 0s 60us/step - loss: 0.1518 - accuracy: 0.7793\n",
      "Epoch 26/200\n",
      "598/598 [==============================] - 0s 58us/step - loss: 0.1518 - accuracy: 0.7793\n",
      "Epoch 27/200\n",
      "598/598 [==============================] - 0s 53us/step - loss: 0.1515 - accuracy: 0.7876\n",
      "Epoch 28/200\n",
      "598/598 [==============================] - 0s 53us/step - loss: 0.1513 - accuracy: 0.7843\n",
      "Epoch 29/200\n",
      "598/598 [==============================] - 0s 58us/step - loss: 0.1512 - accuracy: 0.7776\n",
      "Epoch 30/200\n",
      "598/598 [==============================] - 0s 58us/step - loss: 0.1516 - accuracy: 0.7910\n",
      "Epoch 31/200\n",
      "598/598 [==============================] - 0s 55us/step - loss: 0.1511 - accuracy: 0.7843\n",
      "Epoch 32/200\n",
      "598/598 [==============================] - 0s 58us/step - loss: 0.1506 - accuracy: 0.7926\n",
      "Epoch 33/200\n",
      "598/598 [==============================] - 0s 55us/step - loss: 0.1504 - accuracy: 0.7926\n",
      "Epoch 34/200\n",
      "598/598 [==============================] - 0s 68us/step - loss: 0.1505 - accuracy: 0.7876\n",
      "Epoch 35/200\n",
      "598/598 [==============================] - 0s 57us/step - loss: 0.1502 - accuracy: 0.7876\n",
      "Epoch 36/200\n",
      "598/598 [==============================] - 0s 80us/step - loss: 0.1502 - accuracy: 0.7910\n",
      "Epoch 37/200\n",
      "598/598 [==============================] - 0s 83us/step - loss: 0.1498 - accuracy: 0.7910\n",
      "Epoch 38/200\n",
      "598/598 [==============================] - 0s 58us/step - loss: 0.1499 - accuracy: 0.7926\n",
      "Epoch 39/200\n",
      "598/598 [==============================] - 0s 55us/step - loss: 0.1493 - accuracy: 0.7943\n",
      "Epoch 40/200\n",
      "598/598 [==============================] - 0s 68us/step - loss: 0.1497 - accuracy: 0.7876\n",
      "Epoch 41/200\n",
      "598/598 [==============================] - 0s 53us/step - loss: 0.1489 - accuracy: 0.7960\n",
      "Epoch 42/200\n",
      "598/598 [==============================] - 0s 60us/step - loss: 0.1496 - accuracy: 0.7893\n",
      "Epoch 43/200\n",
      "598/598 [==============================] - 0s 67us/step - loss: 0.1490 - accuracy: 0.7926\n",
      "Epoch 44/200\n",
      "598/598 [==============================] - 0s 68us/step - loss: 0.1489 - accuracy: 0.7993\n",
      "Epoch 45/200\n",
      "598/598 [==============================] - 0s 57us/step - loss: 0.1489 - accuracy: 0.7960\n",
      "Epoch 46/200\n",
      "598/598 [==============================] - 0s 52us/step - loss: 0.1485 - accuracy: 0.7910\n",
      "Epoch 47/200\n",
      "598/598 [==============================] - 0s 55us/step - loss: 0.1481 - accuracy: 0.7960\n",
      "Epoch 48/200\n",
      "598/598 [==============================] - 0s 53us/step - loss: 0.1482 - accuracy: 0.7977\n",
      "Epoch 49/200\n",
      "598/598 [==============================] - 0s 52us/step - loss: 0.1482 - accuracy: 0.7993\n",
      "Epoch 50/200\n",
      "598/598 [==============================] - 0s 53us/step - loss: 0.1486 - accuracy: 0.8043\n",
      "Epoch 51/200\n",
      "598/598 [==============================] - 0s 53us/step - loss: 0.1479 - accuracy: 0.7943\n",
      "Epoch 52/200\n",
      "598/598 [==============================] - 0s 53us/step - loss: 0.1477 - accuracy: 0.7993\n",
      "Epoch 53/200\n",
      "598/598 [==============================] - 0s 58us/step - loss: 0.1478 - accuracy: 0.8010\n",
      "Epoch 54/200\n",
      "598/598 [==============================] - 0s 68us/step - loss: 0.1480 - accuracy: 0.7977\n",
      "Epoch 55/200\n",
      "598/598 [==============================] - 0s 63us/step - loss: 0.1480 - accuracy: 0.8043\n",
      "Epoch 56/200\n",
      "598/598 [==============================] - 0s 55us/step - loss: 0.1477 - accuracy: 0.7926\n",
      "Epoch 57/200\n",
      "598/598 [==============================] - 0s 52us/step - loss: 0.1475 - accuracy: 0.8027\n",
      "Epoch 58/200\n",
      "598/598 [==============================] - 0s 60us/step - loss: 0.1484 - accuracy: 0.8010\n",
      "Epoch 59/200\n",
      "598/598 [==============================] - 0s 57us/step - loss: 0.1477 - accuracy: 0.8010\n",
      "Epoch 60/200\n",
      "598/598 [==============================] - 0s 53us/step - loss: 0.1474 - accuracy: 0.8010\n",
      "Epoch 61/200\n",
      "598/598 [==============================] - 0s 75us/step - loss: 0.1476 - accuracy: 0.7993\n",
      "Epoch 62/200\n",
      "598/598 [==============================] - 0s 58us/step - loss: 0.1472 - accuracy: 0.7977\n",
      "Epoch 63/200\n",
      "598/598 [==============================] - 0s 53us/step - loss: 0.1473 - accuracy: 0.8027\n",
      "Epoch 64/200\n",
      "598/598 [==============================] - 0s 53us/step - loss: 0.1479 - accuracy: 0.8060\n",
      "Epoch 65/200\n",
      "598/598 [==============================] - 0s 65us/step - loss: 0.1472 - accuracy: 0.8027\n",
      "Epoch 66/200\n",
      "598/598 [==============================] - 0s 55us/step - loss: 0.1472 - accuracy: 0.8010\n",
      "Epoch 67/200\n",
      "598/598 [==============================] - 0s 55us/step - loss: 0.1470 - accuracy: 0.8010\n",
      "Epoch 68/200\n",
      "598/598 [==============================] - 0s 68us/step - loss: 0.1472 - accuracy: 0.8077\n",
      "Epoch 69/200\n",
      "598/598 [==============================] - 0s 62us/step - loss: 0.1472 - accuracy: 0.8010\n",
      "Epoch 70/200\n",
      "598/598 [==============================] - 0s 58us/step - loss: 0.1474 - accuracy: 0.7993\n",
      "Epoch 71/200\n",
      "598/598 [==============================] - 0s 60us/step - loss: 0.1472 - accuracy: 0.7977\n",
      "Epoch 72/200\n",
      "598/598 [==============================] - 0s 58us/step - loss: 0.1471 - accuracy: 0.8077\n",
      "Epoch 73/200\n",
      "598/598 [==============================] - 0s 67us/step - loss: 0.1469 - accuracy: 0.7977\n",
      "Epoch 74/200\n",
      "598/598 [==============================] - 0s 58us/step - loss: 0.1466 - accuracy: 0.8060\n",
      "Epoch 75/200\n",
      "598/598 [==============================] - 0s 55us/step - loss: 0.1480 - accuracy: 0.7893\n",
      "Epoch 76/200\n",
      "598/598 [==============================] - 0s 53us/step - loss: 0.1469 - accuracy: 0.8027\n",
      "Epoch 77/200\n",
      "598/598 [==============================] - 0s 55us/step - loss: 0.1471 - accuracy: 0.7960\n",
      "Epoch 78/200\n",
      "598/598 [==============================] - 0s 57us/step - loss: 0.1465 - accuracy: 0.8060\n",
      "Epoch 79/200\n",
      "598/598 [==============================] - 0s 57us/step - loss: 0.1472 - accuracy: 0.7977\n",
      "Epoch 80/200\n",
      "598/598 [==============================] - 0s 62us/step - loss: 0.1469 - accuracy: 0.8010\n",
      "Epoch 81/200\n",
      "598/598 [==============================] - 0s 105us/step - loss: 0.1467 - accuracy: 0.7977\n",
      "Epoch 82/200\n",
      "598/598 [==============================] - 0s 98us/step - loss: 0.1469 - accuracy: 0.7960\n",
      "Epoch 83/200\n",
      "598/598 [==============================] - 0s 57us/step - loss: 0.1472 - accuracy: 0.8010\n",
      "Epoch 84/200\n",
      "598/598 [==============================] - 0s 57us/step - loss: 0.1468 - accuracy: 0.7993\n",
      "Epoch 85/200\n",
      "598/598 [==============================] - 0s 53us/step - loss: 0.1468 - accuracy: 0.7943\n",
      "Epoch 86/200\n",
      "598/598 [==============================] - 0s 57us/step - loss: 0.1465 - accuracy: 0.7960\n",
      "Epoch 87/200\n",
      "598/598 [==============================] - 0s 55us/step - loss: 0.1464 - accuracy: 0.8010\n",
      "Epoch 88/200\n",
      "598/598 [==============================] - 0s 53us/step - loss: 0.1469 - accuracy: 0.8010\n",
      "Epoch 89/200\n",
      "598/598 [==============================] - 0s 57us/step - loss: 0.1466 - accuracy: 0.8060\n",
      "Epoch 90/200\n",
      "598/598 [==============================] - 0s 63us/step - loss: 0.1466 - accuracy: 0.8010\n",
      "Epoch 91/200\n",
      "598/598 [==============================] - 0s 62us/step - loss: 0.1464 - accuracy: 0.8043\n",
      "Epoch 92/200\n",
      "598/598 [==============================] - 0s 75us/step - loss: 0.1465 - accuracy: 0.7960\n",
      "Epoch 93/200\n",
      "598/598 [==============================] - 0s 78us/step - loss: 0.1465 - accuracy: 0.7960\n",
      "Epoch 94/200\n",
      "598/598 [==============================] - 0s 82us/step - loss: 0.1464 - accuracy: 0.7993\n",
      "Epoch 95/200\n",
      "598/598 [==============================] - 0s 77us/step - loss: 0.1463 - accuracy: 0.8010\n",
      "Epoch 96/200\n",
      "598/598 [==============================] - 0s 88us/step - loss: 0.1464 - accuracy: 0.8010\n",
      "Epoch 97/200\n",
      "598/598 [==============================] - 0s 73us/step - loss: 0.1470 - accuracy: 0.8060\n",
      "Epoch 98/200\n",
      "598/598 [==============================] - 0s 75us/step - loss: 0.1469 - accuracy: 0.7993\n",
      "Epoch 99/200\n",
      "598/598 [==============================] - 0s 75us/step - loss: 0.1462 - accuracy: 0.8010\n",
      "Epoch 100/200\n",
      "598/598 [==============================] - 0s 75us/step - loss: 0.1461 - accuracy: 0.7993\n",
      "Epoch 101/200\n",
      "598/598 [==============================] - 0s 88us/step - loss: 0.1462 - accuracy: 0.7977\n",
      "Epoch 102/200\n",
      "598/598 [==============================] - 0s 102us/step - loss: 0.1463 - accuracy: 0.8010\n",
      "Epoch 103/200\n",
      "598/598 [==============================] - 0s 83us/step - loss: 0.1461 - accuracy: 0.8027\n",
      "Epoch 104/200\n",
      "598/598 [==============================] - 0s 85us/step - loss: 0.1459 - accuracy: 0.7993\n",
      "Epoch 105/200\n",
      "598/598 [==============================] - 0s 80us/step - loss: 0.1463 - accuracy: 0.7993\n",
      "Epoch 106/200\n",
      "598/598 [==============================] - 0s 188us/step - loss: 0.1466 - accuracy: 0.8010\n",
      "Epoch 107/200\n",
      "598/598 [==============================] - 0s 60us/step - loss: 0.1461 - accuracy: 0.7993\n",
      "Epoch 108/200\n",
      "598/598 [==============================] - 0s 60us/step - loss: 0.1463 - accuracy: 0.8010\n",
      "Epoch 109/200\n",
      "598/598 [==============================] - 0s 57us/step - loss: 0.1459 - accuracy: 0.7960\n",
      "Epoch 110/200\n",
      "598/598 [==============================] - 0s 60us/step - loss: 0.1462 - accuracy: 0.8010\n",
      "Epoch 111/200\n",
      "598/598 [==============================] - 0s 65us/step - loss: 0.1458 - accuracy: 0.8094\n",
      "Epoch 112/200\n",
      "598/598 [==============================] - 0s 63us/step - loss: 0.1461 - accuracy: 0.8010\n",
      "Epoch 113/200\n",
      "598/598 [==============================] - 0s 60us/step - loss: 0.1461 - accuracy: 0.8010\n",
      "Epoch 114/200\n",
      "598/598 [==============================] - 0s 62us/step - loss: 0.1461 - accuracy: 0.8027\n",
      "Epoch 115/200\n",
      "598/598 [==============================] - 0s 62us/step - loss: 0.1459 - accuracy: 0.8010\n",
      "Epoch 116/200\n",
      "598/598 [==============================] - 0s 67us/step - loss: 0.1461 - accuracy: 0.8043\n",
      "Epoch 117/200\n",
      "598/598 [==============================] - 0s 58us/step - loss: 0.1464 - accuracy: 0.7977\n",
      "Epoch 118/200\n",
      "598/598 [==============================] - 0s 55us/step - loss: 0.1463 - accuracy: 0.8027\n",
      "Epoch 119/200\n",
      "598/598 [==============================] - 0s 57us/step - loss: 0.1464 - accuracy: 0.7993\n",
      "Epoch 120/200\n",
      "598/598 [==============================] - 0s 58us/step - loss: 0.1460 - accuracy: 0.8043\n",
      "Epoch 121/200\n",
      "598/598 [==============================] - 0s 55us/step - loss: 0.1460 - accuracy: 0.8027\n",
      "Epoch 122/200\n",
      "598/598 [==============================] - 0s 57us/step - loss: 0.1461 - accuracy: 0.8027\n",
      "Epoch 123/200\n",
      "598/598 [==============================] - 0s 58us/step - loss: 0.1455 - accuracy: 0.8010\n",
      "Epoch 124/200\n",
      "598/598 [==============================] - 0s 50us/step - loss: 0.1456 - accuracy: 0.8010\n",
      "Epoch 125/200\n",
      "598/598 [==============================] - 0s 62us/step - loss: 0.1459 - accuracy: 0.7977\n",
      "Epoch 126/200\n",
      "598/598 [==============================] - 0s 60us/step - loss: 0.1457 - accuracy: 0.8027\n",
      "Epoch 127/200\n",
      "598/598 [==============================] - 0s 58us/step - loss: 0.1458 - accuracy: 0.7993\n",
      "Epoch 128/200\n",
      "598/598 [==============================] - 0s 73us/step - loss: 0.1456 - accuracy: 0.8010\n",
      "Epoch 129/200\n",
      "598/598 [==============================] - 0s 117us/step - loss: 0.1458 - accuracy: 0.8027\n",
      "Epoch 130/200\n",
      "598/598 [==============================] - 0s 122us/step - loss: 0.1462 - accuracy: 0.8043\n",
      "Epoch 131/200\n",
      "598/598 [==============================] - 0s 73us/step - loss: 0.1463 - accuracy: 0.8010\n",
      "Epoch 132/200\n",
      "598/598 [==============================] - 0s 67us/step - loss: 0.1461 - accuracy: 0.7960\n",
      "Epoch 133/200\n",
      "598/598 [==============================] - 0s 60us/step - loss: 0.1455 - accuracy: 0.8010\n",
      "Epoch 134/200\n",
      "598/598 [==============================] - 0s 78us/step - loss: 0.1457 - accuracy: 0.8010\n",
      "Epoch 135/200\n",
      "598/598 [==============================] - 0s 55us/step - loss: 0.1457 - accuracy: 0.7993\n",
      "Epoch 136/200\n",
      "598/598 [==============================] - 0s 58us/step - loss: 0.1456 - accuracy: 0.8010\n",
      "Epoch 137/200\n",
      "598/598 [==============================] - 0s 57us/step - loss: 0.1456 - accuracy: 0.8027\n",
      "Epoch 138/200\n",
      "598/598 [==============================] - 0s 57us/step - loss: 0.1459 - accuracy: 0.7977\n",
      "Epoch 139/200\n",
      "598/598 [==============================] - 0s 55us/step - loss: 0.1455 - accuracy: 0.7993\n",
      "Epoch 140/200\n",
      "598/598 [==============================] - 0s 55us/step - loss: 0.1457 - accuracy: 0.8027\n",
      "Epoch 141/200\n",
      "598/598 [==============================] - 0s 58us/step - loss: 0.1457 - accuracy: 0.7977\n",
      "Epoch 142/200\n",
      "598/598 [==============================] - 0s 52us/step - loss: 0.1456 - accuracy: 0.8060\n",
      "Epoch 143/200\n",
      "598/598 [==============================] - 0s 57us/step - loss: 0.1460 - accuracy: 0.8010\n",
      "Epoch 144/200\n",
      "598/598 [==============================] - 0s 55us/step - loss: 0.1452 - accuracy: 0.8043\n",
      "Epoch 145/200\n",
      "598/598 [==============================] - 0s 57us/step - loss: 0.1455 - accuracy: 0.7977\n",
      "Epoch 146/200\n",
      "598/598 [==============================] - 0s 58us/step - loss: 0.1455 - accuracy: 0.7993\n",
      "Epoch 147/200\n",
      "598/598 [==============================] - 0s 55us/step - loss: 0.1455 - accuracy: 0.7977\n",
      "Epoch 148/200\n",
      "598/598 [==============================] - 0s 53us/step - loss: 0.1457 - accuracy: 0.8027\n",
      "Epoch 149/200\n",
      "598/598 [==============================] - 0s 55us/step - loss: 0.1455 - accuracy: 0.8077\n",
      "Epoch 150/200\n",
      "598/598 [==============================] - 0s 55us/step - loss: 0.1459 - accuracy: 0.8010\n",
      "Epoch 151/200\n",
      "598/598 [==============================] - 0s 58us/step - loss: 0.1451 - accuracy: 0.8043\n",
      "Epoch 152/200\n",
      "598/598 [==============================] - 0s 85us/step - loss: 0.1453 - accuracy: 0.8010\n",
      "Epoch 153/200\n",
      "598/598 [==============================] - 0s 62us/step - loss: 0.1456 - accuracy: 0.8043\n",
      "Epoch 154/200\n",
      "598/598 [==============================] - 0s 55us/step - loss: 0.1451 - accuracy: 0.8043\n",
      "Epoch 155/200\n",
      "598/598 [==============================] - 0s 57us/step - loss: 0.1453 - accuracy: 0.7993\n",
      "Epoch 156/200\n",
      "598/598 [==============================] - 0s 55us/step - loss: 0.1458 - accuracy: 0.8027\n",
      "Epoch 157/200\n"
     ]
    },
    {
     "name": "stdout",
     "output_type": "stream",
     "text": [
      "598/598 [==============================] - 0s 133us/step - loss: 0.1452 - accuracy: 0.8043\n",
      "Epoch 158/200\n",
      "598/598 [==============================] - 0s 147us/step - loss: 0.1455 - accuracy: 0.8043\n",
      "Epoch 159/200\n",
      "598/598 [==============================] - 0s 53us/step - loss: 0.1456 - accuracy: 0.7960\n",
      "Epoch 160/200\n",
      "598/598 [==============================] - 0s 58us/step - loss: 0.1458 - accuracy: 0.7943\n",
      "Epoch 161/200\n",
      "598/598 [==============================] - 0s 58us/step - loss: 0.1454 - accuracy: 0.8010\n",
      "Epoch 162/200\n",
      "598/598 [==============================] - 0s 58us/step - loss: 0.1452 - accuracy: 0.8094\n",
      "Epoch 163/200\n",
      "598/598 [==============================] - 0s 62us/step - loss: 0.1452 - accuracy: 0.8010\n",
      "Epoch 164/200\n",
      "598/598 [==============================] - 0s 62us/step - loss: 0.1458 - accuracy: 0.8027\n",
      "Epoch 165/200\n",
      "598/598 [==============================] - 0s 62us/step - loss: 0.1453 - accuracy: 0.8060\n",
      "Epoch 166/200\n",
      "598/598 [==============================] - 0s 60us/step - loss: 0.1450 - accuracy: 0.8027\n",
      "Epoch 167/200\n",
      "598/598 [==============================] - 0s 57us/step - loss: 0.1451 - accuracy: 0.8060\n",
      "Epoch 168/200\n",
      "598/598 [==============================] - 0s 60us/step - loss: 0.1452 - accuracy: 0.8060\n",
      "Epoch 169/200\n",
      "598/598 [==============================] - 0s 58us/step - loss: 0.1451 - accuracy: 0.8060\n",
      "Epoch 170/200\n",
      "598/598 [==============================] - 0s 58us/step - loss: 0.1450 - accuracy: 0.8010\n",
      "Epoch 171/200\n",
      "598/598 [==============================] - 0s 57us/step - loss: 0.1452 - accuracy: 0.8110\n",
      "Epoch 172/200\n",
      "598/598 [==============================] - 0s 58us/step - loss: 0.1454 - accuracy: 0.8010\n",
      "Epoch 173/200\n",
      "598/598 [==============================] - 0s 60us/step - loss: 0.1454 - accuracy: 0.7993\n",
      "Epoch 174/200\n",
      "598/598 [==============================] - 0s 55us/step - loss: 0.1455 - accuracy: 0.8010\n",
      "Epoch 175/200\n",
      "598/598 [==============================] - 0s 73us/step - loss: 0.1450 - accuracy: 0.8027\n",
      "Epoch 176/200\n",
      "598/598 [==============================] - 0s 77us/step - loss: 0.1452 - accuracy: 0.8094\n",
      "Epoch 177/200\n",
      "598/598 [==============================] - 0s 70us/step - loss: 0.1451 - accuracy: 0.8027\n",
      "Epoch 178/200\n",
      "598/598 [==============================] - 0s 73us/step - loss: 0.1452 - accuracy: 0.8060\n",
      "Epoch 179/200\n",
      "598/598 [==============================] - 0s 88us/step - loss: 0.1449 - accuracy: 0.8043\n",
      "Epoch 180/200\n",
      "598/598 [==============================] - 0s 75us/step - loss: 0.1449 - accuracy: 0.8094\n",
      "Epoch 181/200\n",
      "598/598 [==============================] - 0s 82us/step - loss: 0.1448 - accuracy: 0.8010\n",
      "Epoch 182/200\n",
      "598/598 [==============================] - 0s 125us/step - loss: 0.1444 - accuracy: 0.8010\n",
      "Epoch 183/200\n",
      "598/598 [==============================] - 0s 83us/step - loss: 0.1456 - accuracy: 0.8060\n",
      "Epoch 184/200\n",
      "598/598 [==============================] - 0s 87us/step - loss: 0.1453 - accuracy: 0.8060\n",
      "Epoch 185/200\n",
      "598/598 [==============================] - 0s 83us/step - loss: 0.1448 - accuracy: 0.8043\n",
      "Epoch 186/200\n",
      "598/598 [==============================] - 0s 75us/step - loss: 0.1450 - accuracy: 0.8043\n",
      "Epoch 187/200\n",
      "598/598 [==============================] - 0s 80us/step - loss: 0.1454 - accuracy: 0.8027\n",
      "Epoch 188/200\n",
      "598/598 [==============================] - 0s 62us/step - loss: 0.1454 - accuracy: 0.8060\n",
      "Epoch 189/200\n",
      "598/598 [==============================] - 0s 53us/step - loss: 0.1448 - accuracy: 0.8010\n",
      "Epoch 190/200\n",
      "598/598 [==============================] - 0s 60us/step - loss: 0.1450 - accuracy: 0.8043\n",
      "Epoch 191/200\n",
      "598/598 [==============================] - 0s 53us/step - loss: 0.1453 - accuracy: 0.8027\n",
      "Epoch 192/200\n",
      "598/598 [==============================] - 0s 57us/step - loss: 0.1455 - accuracy: 0.8043\n",
      "Epoch 193/200\n",
      "598/598 [==============================] - 0s 55us/step - loss: 0.1452 - accuracy: 0.8110\n",
      "Epoch 194/200\n",
      "598/598 [==============================] - 0s 53us/step - loss: 0.1447 - accuracy: 0.8060\n",
      "Epoch 195/200\n",
      "598/598 [==============================] - 0s 57us/step - loss: 0.1454 - accuracy: 0.8043\n",
      "Epoch 196/200\n",
      "598/598 [==============================] - 0s 65us/step - loss: 0.1448 - accuracy: 0.8043\n",
      "Epoch 197/200\n",
      "598/598 [==============================] - 0s 62us/step - loss: 0.1446 - accuracy: 0.8077\n",
      "Epoch 198/200\n",
      "598/598 [==============================] - 0s 57us/step - loss: 0.1446 - accuracy: 0.8027\n",
      "Epoch 199/200\n",
      "598/598 [==============================] - 0s 55us/step - loss: 0.1454 - accuracy: 0.8043\n",
      "Epoch 200/200\n",
      "598/598 [==============================] - 0s 58us/step - loss: 0.1449 - accuracy: 0.8043\n",
      "150/150 [==============================] - 0s 266us/step\n",
      "\n",
      " Accuracy: 0.8000\n"
     ]
    },
    {
     "data": {
      "image/png": "[encoded data removed]",
      "text/plain": [
       "<Figure size 432x288 with 2 Axes>"
      ]
     },
     "metadata": {
      "needs_background": "light"
     },
     "output_type": "display_data"
    }
   ],
   "source": [
    "from keras.models import Sequential\n",
    "from keras.layers import Dense\n",
    "\n",
    "# model setting\n",
    "model = Sequential()\n",
    "model.add(Dense(12, input_dim=4, activation='relu'))\n",
    "model.add(Dense(8, activation='relu'))\n",
    "model.add(Dense(8, activation='relu'))\n",
    "model.add(Dense(1, activation='sigmoid'))\n",
    "\n",
    "# model compile\n",
    "model.compile(loss='mean_squared_error', optimizer='Nadam', metrics=['accuracy'])\n",
    "\n",
    "# model fitting\n",
    "hist = model.fit(train_X_scaled, train_y, epochs=200, batch_size = 32)\n",
    "\n",
    "fig, loss_ax = plt.subplots()\n",
    "acc_ax = loss_ax.twinx()\n",
    "\n",
    "loss_ax.set_ylim([0.0, 1.0])\n",
    "acc_ax.set_ylim([0.0, 1.0])\n",
    "\n",
    "loss_ax.plot(hist.history['loss'], 'y', label = 'train loss')\n",
    "acc_ax.plot(hist.history['accuracy'], 'b', label = 'train acc')\n",
    "\n",
    "loss_ax.set_xlabel('epoch')\n",
    "loss_ax.set_ylabel('loss')\n",
    "acc_ax.set_ylabel('accuracy')\n",
    "\n",
    "loss_ax.legend(loc = 'lower left')\n",
    "acc_ax.legend(loc = 'upper left')\n",
    "\n",
    "# result print\n",
    "print(\"\\n Accuracy: %.4f\" % (model.evaluate(test_X_scaled, test_y)[1]))\n",
    "\n",
    "model.save('MLP_model.h5')"
   ]
  },
  {
   "cell_type": "markdown",
   "metadata": {},
   "source": [
    "#### Predict your Inserted data"
   ]
  },
  {
   "cell_type": "code",
   "execution_count": 17,
   "metadata": {},
   "outputs": [
    {
     "name": "stdout",
     "output_type": "stream",
     "text": [
      "[[1.]]\n"
     ]
    }
   ],
   "source": [
    "model = tf.keras.models.load_model('MLP_model.h5')\n",
    "test_data = np.array([ 2, 9, 2250, 22 ]) # insert your data here.\n",
    "predict = model.predict(test_data.reshape(1,4), batch_size=1)\n",
    "print(predict)"
   ]
  },
  {
   "cell_type": "markdown",
   "metadata": {},
   "source": [
    "## scikit-learn "
   ]
  },
  {
   "cell_type": "markdown",
   "metadata": {},
   "source": [
    "### Naive Bayes"
   ]
  },
  {
   "cell_type": "code",
   "execution_count": 18,
   "metadata": {},
   "outputs": [],
   "source": [
    "from sklearn.naive_bayes import GaussianNB"
   ]
  },
  {
   "cell_type": "code",
   "execution_count": 19,
   "metadata": {},
   "outputs": [
    {
     "data": {
      "text/plain": [
       "GaussianNB(priors=None, var_smoothing=1e-09)"
      ]
     },
     "execution_count": 19,
     "metadata": {},
     "output_type": "execute_result"
    }
   ],
   "source": [
    "naive = GaussianNB()\n",
    "naive.fit(train_X_scaled, train_y)"
   ]
  },
  {
   "cell_type": "code",
   "execution_count": 20,
   "metadata": {},
   "outputs": [
    {
     "name": "stdout",
     "output_type": "stream",
     "text": [
      "The accuracy of train is: 0.7591973244147158\n",
      "The accuracy of test is: 0.7533333333333333\n"
     ]
    }
   ],
   "source": [
    "pred_train = naive.predict(train_X_scaled)\n",
    "pred_test = naive.predict(test_X_scaled)\n",
    "\n",
    "print('The accuracy of train is:',metrics.accuracy_score(pred_train,train_y))\n",
    "print('The accuracy of test is:',metrics.accuracy_score(pred_test,test_y))"
   ]
  },
  {
   "cell_type": "markdown",
   "metadata": {},
   "source": [
    "#### Predict your inserted data ( Naive Bayes )"
   ]
  },
  {
   "cell_type": "code",
   "execution_count": 21,
   "metadata": {},
   "outputs": [
    {
     "name": "stdout",
     "output_type": "stream",
     "text": [
      "[1]\n"
     ]
    }
   ],
   "source": [
    "your_data = np.array([ 2, 9, 2250, 22 ])\n",
    "print(naive.predict(your_data.reshape(1,4)))"
   ]
  },
  {
   "cell_type": "markdown",
   "metadata": {},
   "source": [
    "### K-NN"
   ]
  },
  {
   "cell_type": "code",
   "execution_count": 22,
   "metadata": {},
   "outputs": [],
   "source": [
    "from sklearn.neighbors import KNeighborsClassifier "
   ]
  },
  {
   "cell_type": "code",
   "execution_count": 23,
   "metadata": {},
   "outputs": [
    {
     "data": {
      "text/plain": [
       "KNeighborsClassifier(algorithm='auto', leaf_size=30, metric='minkowski',\n",
       "                     metric_params=None, n_jobs=None, n_neighbors=7, p=2,\n",
       "                     weights='uniform')"
      ]
     },
     "execution_count": 23,
     "metadata": {},
     "output_type": "execute_result"
    }
   ],
   "source": [
    "KNN = KNeighborsClassifier(n_neighbors=7) \n",
    "KNN.fit(train_X_scaled,train_y)"
   ]
  },
  {
   "cell_type": "code",
   "execution_count": 24,
   "metadata": {},
   "outputs": [
    {
     "name": "stdout",
     "output_type": "stream",
     "text": [
      "The accuracy of the KNN is 0.78\n"
     ]
    }
   ],
   "source": [
    "prediction=KNN.predict(test_X_scaled)\n",
    "\n",
    "print('The accuracy of the KNN is',metrics.accuracy_score(prediction,test_y))"
   ]
  },
  {
   "cell_type": "code",
   "execution_count": 25,
   "metadata": {},
   "outputs": [
    {
     "data": {
      "image/png": "[encoded data removed]",
      "text/plain": [
       "<Figure size 1440x360 with 1 Axes>"
      ]
     },
     "metadata": {
      "needs_background": "light"
     },
     "output_type": "display_data"
    }
   ],
   "source": [
    "fig = plt.figure(figsize=(20,5))\n",
    "ax1 = fig.add_subplot(111)\n",
    "a_index=list(range(1,11))\n",
    "a=pd.Series()\n",
    "b=pd.Series()\n",
    "x=[1,2,3,4,5,6,7,8,9,10]\n",
    "\n",
    "for i in list(range(1,11)):\n",
    "    model=KNeighborsClassifier(n_neighbors=i) \n",
    "    model.fit(train_X_scaled,train_y)\n",
    "    prediction_train=model.predict(train_X_scaled)\n",
    "    prediction_test=model.predict(test_X_scaled)\n",
    "    a=a.append(pd.Series(metrics.accuracy_score(prediction_train,train_y)))\n",
    "    b=b.append(pd.Series(metrics.accuracy_score(prediction_test,test_y)))\n",
    "ax1.plot(a_index, a, label=\"train accuracy\")\n",
    "ax1.plot(a_index, b, label=\"test accuracy\")\n",
    "plt.ylabel(\"Accuracy\")\n",
    "plt.xlabel(\"n_neighbors\")\n",
    "plt.legend()\n",
    "plt.xticks(x)\n",
    "plt.show()"
   ]
  },
  {
   "cell_type": "markdown",
   "metadata": {},
   "source": [
    "#### Predict your inserted data ( K-NN )"
   ]
  },
  {
   "cell_type": "code",
   "execution_count": 26,
   "metadata": {},
   "outputs": [
    {
     "name": "stdout",
     "output_type": "stream",
     "text": [
      "[1]\n"
     ]
    }
   ],
   "source": [
    "your_data = np.array([ 2, 9, 2250, 22 ])\n",
    "print(KNN.predict(your_data.reshape(1,4)))"
   ]
  },
  {
   "cell_type": "markdown",
   "metadata": {},
   "source": [
    "### Logistic Regression"
   ]
  },
  {
   "cell_type": "code",
   "execution_count": 27,
   "metadata": {},
   "outputs": [],
   "source": [
    "from sklearn.linear_model import LogisticRegression "
   ]
  },
  {
   "cell_type": "code",
   "execution_count": 28,
   "metadata": {},
   "outputs": [
    {
     "name": "stderr",
     "output_type": "stream",
     "text": [
      "C:\\ProgramData\\Anaconda3\\envs\\MLproject\\lib\\site-packages\\sklearn\\linear_model\\logistic.py:432: FutureWarning: Default solver will be changed to 'lbfgs' in 0.22. Specify a solver to silence this warning.\n",
      "  FutureWarning)\n"
     ]
    },
    {
     "data": {
      "text/plain": [
       "LogisticRegression(C=100, class_weight=None, dual=False, fit_intercept=True,\n",
       "                   intercept_scaling=1, l1_ratio=None, max_iter=100,\n",
       "                   multi_class='warn', n_jobs=None, penalty='l2',\n",
       "                   random_state=None, solver='warn', tol=0.0001, verbose=0,\n",
       "                   warm_start=False)"
      ]
     },
     "execution_count": 28,
     "metadata": {},
     "output_type": "execute_result"
    }
   ],
   "source": [
    "logi = LogisticRegression(C = 100)\n",
    "logi.fit(train_X_scaled,train_y)"
   ]
  },
  {
   "cell_type": "code",
   "execution_count": 29,
   "metadata": {},
   "outputs": [
    {
     "name": "stdout",
     "output_type": "stream",
     "text": [
      "The accuracy of train is: 0.782608695652174\n",
      "The accuracy of test is: 0.76\n"
     ]
    }
   ],
   "source": [
    "pred_train = logi.predict(train_X_scaled)\n",
    "pred_test = logi.predict(test_X_scaled) \n",
    "\n",
    "print('The accuracy of train is:',metrics.accuracy_score(pred_train,train_y))\n",
    "print('The accuracy of test is:',metrics.accuracy_score(pred_test,test_y))"
   ]
  },
  {
   "cell_type": "markdown",
   "metadata": {},
   "source": [
    "#### Predict your inserted data ( Logistic Regression )"
   ]
  },
  {
   "cell_type": "code",
   "execution_count": 30,
   "metadata": {},
   "outputs": [
    {
     "name": "stdout",
     "output_type": "stream",
     "text": [
      "[1]\n"
     ]
    }
   ],
   "source": [
    "your_data = np.array([ 2, 9, 2250, 22 ])\n",
    "print(logi.predict(your_data.reshape(1,4)))"
   ]
  },
  {
   "cell_type": "markdown",
   "metadata": {},
   "source": [
    "### SVM"
   ]
  },
  {
   "cell_type": "code",
   "execution_count": 31,
   "metadata": {},
   "outputs": [],
   "source": [
    "from sklearn.svm import LinearSVC"
   ]
  },
  {
   "cell_type": "code",
   "execution_count": 32,
   "metadata": {},
   "outputs": [
    {
     "data": {
      "text/plain": [
       "LinearSVC(C=1.0, class_weight=None, dual=True, fit_intercept=True,\n",
       "          intercept_scaling=1, loss='squared_hinge', max_iter=1000,\n",
       "          multi_class='ovr', penalty='l2', random_state=None, tol=0.0001,\n",
       "          verbose=0)"
      ]
     },
     "execution_count": 32,
     "metadata": {},
     "output_type": "execute_result"
    }
   ],
   "source": [
    "svm = LinearSVC() \n",
    "svm.fit(train_X_scaled,train_y) "
   ]
  },
  {
   "cell_type": "code",
   "execution_count": 33,
   "metadata": {},
   "outputs": [
    {
     "name": "stdout",
     "output_type": "stream",
     "text": [
      "The accuracy of train is: 0.782608695652174\n",
      "The accuracy of test is: 0.7466666666666667\n"
     ]
    }
   ],
   "source": [
    "pred_train = svm.predict(train_X_scaled)\n",
    "pred_test = svm.predict(test_X_scaled) \n",
    "\n",
    "print('The accuracy of train is:',metrics.accuracy_score(pred_train,train_y))\n",
    "print('The accuracy of test is:',metrics.accuracy_score(pred_test,test_y))"
   ]
  },
  {
   "cell_type": "markdown",
   "metadata": {},
   "source": [
    "#### Predict your  inserted data ( Support Vector Classification )"
   ]
  },
  {
   "cell_type": "code",
   "execution_count": 34,
   "metadata": {},
   "outputs": [
    {
     "name": "stdout",
     "output_type": "stream",
     "text": [
      "[1]\n"
     ]
    }
   ],
   "source": [
    "your_data = np.array([ 2, 9, 2250, 22 ])\n",
    "print(svm.predict(your_data.reshape(1,4)))"
   ]
  },
  {
   "cell_type": "markdown",
   "metadata": {},
   "source": [
    "### MLP"
   ]
  },
  {
   "cell_type": "code",
   "execution_count": 35,
   "metadata": {},
   "outputs": [],
   "source": [
    "from sklearn.neural_network import MLPClassifier"
   ]
  },
  {
   "cell_type": "code",
   "execution_count": 36,
   "metadata": {},
   "outputs": [
    {
     "data": {
      "text/plain": [
       "MLPClassifier(activation='relu', alpha=0.1, batch_size='auto', beta_1=0.9,\n",
       "              beta_2=0.999, early_stopping=True, epsilon=1e-08,\n",
       "              hidden_layer_sizes=(100,), learning_rate='constant',\n",
       "              learning_rate_init=0.001, max_iter=200, momentum=0.9,\n",
       "              n_iter_no_change=10, nesterovs_momentum=True, power_t=0.5,\n",
       "              random_state=None, shuffle=True, solver='lbfgs', tol=0.0001,\n",
       "              validation_fraction=0.1, verbose=False, warm_start=False)"
      ]
     },
     "execution_count": 36,
     "metadata": {},
     "output_type": "execute_result"
    }
   ],
   "source": [
    "mlp = MLPClassifier(solver='lbfgs', alpha = 0.1, early_stopping = True) \n",
    "mlp.fit(train_X_scaled,train_y) "
   ]
  },
  {
   "cell_type": "code",
   "execution_count": 37,
   "metadata": {},
   "outputs": [
    {
     "name": "stdout",
     "output_type": "stream",
     "text": [
      "The accuracy of train is: 0.8060200668896321\n",
      "The accuracy of test is: 0.7933333333333333\n"
     ]
    }
   ],
   "source": [
    "pred_train = mlp.predict(train_X_scaled)\n",
    "pred_test = mlp.predict(test_X_scaled) \n",
    "\n",
    "print('The accuracy of train is:',metrics.accuracy_score(pred_train,train_y))\n",
    "print('The accuracy of test is:',metrics.accuracy_score(pred_test,test_y))"
   ]
  },
  {
   "cell_type": "markdown",
   "metadata": {},
   "source": [
    "#### Predict your inserted data ( MLP )"
   ]
  },
  {
   "cell_type": "code",
   "execution_count": 38,
   "metadata": {},
   "outputs": [
    {
     "name": "stdout",
     "output_type": "stream",
     "text": [
      "[1]\n"
     ]
    }
   ],
   "source": [
    "your_data = np.array([ 2, 9, 2250, 22 ])\n",
    "print(mlp.predict(your_data.reshape(1,4)))"
   ]
  },
  {
   "cell_type": "markdown",
   "metadata": {},
   "source": [
    "### Random Forest Tree"
   ]
  },
  {
   "cell_type": "code",
   "execution_count": 54,
   "metadata": {},
   "outputs": [],
   "source": [
    "from sklearn.ensemble import RandomForestClassifier"
   ]
  },
  {
   "cell_type": "code",
   "execution_count": 55,
   "metadata": {},
   "outputs": [
    {
     "data": {
      "text/plain": [
       "RandomForestClassifier(bootstrap=True, class_weight=None, criterion='gini',\n",
       "                       max_depth=5, max_features='auto', max_leaf_nodes=None,\n",
       "                       min_impurity_decrease=0.0, min_impurity_split=None,\n",
       "                       min_samples_leaf=1, min_samples_split=2,\n",
       "                       min_weight_fraction_leaf=0.0, n_estimators=1000,\n",
       "                       n_jobs=None, oob_score=False, random_state=None,\n",
       "                       verbose=0, warm_start=False)"
      ]
     },
     "execution_count": 55,
     "metadata": {},
     "output_type": "execute_result"
    }
   ],
   "source": [
    "rftree = RandomForestClassifier(n_estimators=1000, max_depth=5)\n",
    "rftree.fit(train_X_scaled,train_y)"
   ]
  },
  {
   "cell_type": "code",
   "execution_count": 56,
   "metadata": {},
   "outputs": [
    {
     "name": "stdout",
     "output_type": "stream",
     "text": [
      "The accuracy of train is: 0.8244147157190636\n",
      "The accuracy of test is: 0.8\n"
     ]
    }
   ],
   "source": [
    "pred_train = rftree.predict(train_X_scaled)\n",
    "pred_test = rftree.predict(test_X_scaled)\n",
    "\n",
    "print('The accuracy of train is:',metrics.accuracy_score(pred_train,train_y))\n",
    "print('The accuracy of test is:',metrics.accuracy_score(pred_test,test_y))"
   ]
  },
  {
   "cell_type": "code",
   "execution_count": 57,
   "metadata": {},
   "outputs": [
    {
     "data": {
      "image/png": "[encoded data removed]",
      "text/plain": [
       "<Figure size 432x288 with 1 Axes>"
      ]
     },
     "metadata": {
      "needs_background": "light"
     },
     "output_type": "display_data"
    }
   ],
   "source": [
    "def plot_feature_imp(model, n_feature):\n",
    "    n_features = n_feature # 특성의 개수\n",
    "    plt.barh(range(n_features), model.feature_importances_, align='center')\n",
    "    plt.yticks(np.arange(n_feature), list(train_X))\n",
    "    plt.xlabel(\"feature importances\")\n",
    "    plt.ylabel(\"features\")\n",
    "    plt.ylim(-1, n_features)\n",
    "    plt.xlim(0, 1.1)\n",
    "    plt.title(\"Features Importances\")\n",
    "    \n",
    "    y = list(model.feature_importances_)\n",
    "    y = np.round(y, 5)\n",
    "    \n",
    "    for i, v in enumerate(y):\n",
    "        plt.text(v, i, \" \"+str(v), color='blue', va='center', fontweight='bold')\n",
    "\n",
    "plot_feature_imp(rftree, n_feature=4)"
   ]
  },
  {
   "cell_type": "markdown",
   "metadata": {},
   "source": [
    "#### Predict your  inserted data ( Random Forest )"
   ]
  },
  {
   "cell_type": "code",
   "execution_count": 58,
   "metadata": {},
   "outputs": [
    {
     "name": "stdout",
     "output_type": "stream",
     "text": [
      "[0]\n"
     ]
    }
   ],
   "source": [
    "your_data = np.array([ 2, 9, 2250, 22 ])\n",
    "print(rftree.predict(your_data.reshape(1,4)))"
   ]
  },
  {
   "cell_type": "markdown",
   "metadata": {},
   "source": [
    "### Gradient Boosting Tree"
   ]
  },
  {
   "cell_type": "code",
   "execution_count": 59,
   "metadata": {},
   "outputs": [],
   "source": [
    "from sklearn.ensemble import GradientBoostingClassifier"
   ]
  },
  {
   "cell_type": "code",
   "execution_count": 60,
   "metadata": {},
   "outputs": [
    {
     "data": {
      "text/plain": [
       "RandomForestClassifier(bootstrap=True, class_weight=None, criterion='gini',\n",
       "                       max_depth=5, max_features='auto', max_leaf_nodes=None,\n",
       "                       min_impurity_decrease=0.0, min_impurity_split=None,\n",
       "                       min_samples_leaf=1, min_samples_split=2,\n",
       "                       min_weight_fraction_leaf=0.0, n_estimators=100,\n",
       "                       n_jobs=None, oob_score=False, random_state=None,\n",
       "                       verbose=0, warm_start=False)"
      ]
     },
     "execution_count": 60,
     "metadata": {},
     "output_type": "execute_result"
    }
   ],
   "source": [
    "gbtree = RandomForestClassifier(n_estimators=100, max_depth = 5)\n",
    "gbtree.fit(train_X_scaled,train_y)"
   ]
  },
  {
   "cell_type": "code",
   "execution_count": 61,
   "metadata": {},
   "outputs": [
    {
     "name": "stdout",
     "output_type": "stream",
     "text": [
      "The accuracy of train is: 0.8210702341137124\n",
      "The accuracy of test is: 0.7733333333333333\n"
     ]
    }
   ],
   "source": [
    "pred_train = gbtree.predict(train_X_scaled)\n",
    "pred_test = gbtree.predict(test_X_scaled) \n",
    "\n",
    "print('The accuracy of train is:',metrics.accuracy_score(pred_train,train_y))\n",
    "print('The accuracy of test is:',metrics.accuracy_score(pred_test,test_y))"
   ]
  },
  {
   "cell_type": "code",
   "execution_count": 62,
   "metadata": {},
   "outputs": [
    {
     "data": {
      "image/png": "[encoded data removed]",
      "text/plain": [
       "<Figure size 432x288 with 1 Axes>"
      ]
     },
     "metadata": {
      "needs_background": "light"
     },
     "output_type": "display_data"
    }
   ],
   "source": [
    "def plot_feature_imp(model, n_feature):\n",
    "    n_features = n_feature # 특성의 개수\n",
    "    plt.barh(range(n_features), model.feature_importances_, align='center')\n",
    "    plt.yticks(np.arange(n_feature), list(train_X))\n",
    "    plt.xlabel(\"feature importances\")\n",
    "    plt.ylabel(\"features\")\n",
    "    plt.ylim(-1, n_features)\n",
    "    plt.xlim(0, 1.1)\n",
    "    plt.title(\"Features Importances\")\n",
    "    \n",
    "    y = list(model.feature_importances_)\n",
    "    y = np.round(y, 5)\n",
    "    \n",
    "    for i, v in enumerate(y):\n",
    "        plt.text(v, i, \" \"+str(v), color='blue', va='center', fontweight='bold')\n",
    "\n",
    "plot_feature_imp(gbtree, n_feature=4)"
   ]
  },
  {
   "cell_type": "markdown",
   "metadata": {},
   "source": [
    "#### Predict your inserted data ( Gradient Boosting )"
   ]
  },
  {
   "cell_type": "code",
   "execution_count": 63,
   "metadata": {},
   "outputs": [
    {
     "name": "stdout",
     "output_type": "stream",
     "text": [
      "[0]\n"
     ]
    }
   ],
   "source": [
    "your_data = np.array([ 2, 9, 2250, 22 ])\n",
    "print(rftree.predict(your_data.reshape(1,4)))"
   ]
  },
  {
   "cell_type": "markdown",
   "metadata": {},
   "source": [
    "# Result"
   ]
  },
  {
   "cell_type": "markdown",
   "metadata": {},
   "source": [
    "> 데이터 시각화(Data Visualization)이후 데이터 경향성을 보았을 때,\n",
    ">\n",
    "> 1. 첫번째 기부 이후 100개월 이내(≈ 8 년)\n",
    "> 2. 지난 기부 이후 30개월 이내(≈ 2 년)\n",
    "> 3. 총 기부 횟수가 적을수록\n",
    ">\n",
    "> ==> 기부할 확률이 있다\n",
    ">\n",
    "> 라는 이미 도출된 결과로부터 그 이후 앙상블 기법을 통해 특징 중요도를 보았더니, <br>\n",
    "> 지난 기부 이후 '최근(最近; Recency)'의 변수가 가장 중요하다고 나타나진다.\n",
    ">\n",
    "> **그러므로 '최근(最近; Recency)'이라는 특징도가 낮을 수록 헌혈기부자가 다음에도 헌혈을 할 확률이 높을 것으로 보인다.**"
   ]
  }
 ],
 "metadata": {
  "kernelspec": {
   "display_name": "Python 3",
   "language": "python",
   "name": "python3"
  },
  "language_info": {
   "codemirror_mode": {
    "name": "ipython",
    "version": 3
   },
   "file_extension": ".py",
   "mimetype": "text/x-python",
   "name": "python",
   "nbconvert_exporter": "python",
   "pygments_lexer": "ipython3",
   "version": "3.6.10"
  }
 },
 "nbformat": 4,
 "nbformat_minor": 2
}
